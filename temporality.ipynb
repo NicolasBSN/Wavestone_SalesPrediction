{
  "nbformat": 4,
  "nbformat_minor": 0,
  "metadata": {
    "colab": {
      "name": "ma_partie_business_case.ipynb",
      "provenance": []
    },
    "kernelspec": {
      "name": "python3",
      "display_name": "Python 3"
    }
  },
  "cells": [
    {
      "cell_type": "code",
      "metadata": {
        "id": "gZRBYoqp7AAv"
      },
      "source": [
        "from sklearn.base import BaseEstimator\n",
        "from sklearn.base import TransformerMixin\n",
        "import pandas as pd\n",
        "from sklearn.preprocessing import OneHotEncoder\n",
        "import numpy as np\n",
        "import seaborn as sns\n",
        "import matplotlib.pyplot as plt"
      ],
      "execution_count": null,
      "outputs": []
    },
    {
      "cell_type": "code",
      "metadata": {
        "colab": {
          "base_uri": "https://localhost:8080/"
        },
        "id": "wcLmokTE7k8M",
        "outputId": "ebc228b0-8ab9-4647-cef8-e7c5799890ae"
      },
      "source": [
        "path = '/content/'\n",
        "\n",
        "store_filename = 'store.csv'\n",
        "df_stores = pd.read_csv(path + store_filename)\n",
        "#cat_columns = [\"StateHoliday\", \"StoreType\", \"Assortment\", \"PromoInterval\", \"Month\", \"DayOfWeek\"]\n",
        "\n",
        "train_filename = 'train.csv'\n",
        "df = pd.read_csv(path + train_filename)"
      ],
      "execution_count": null,
      "outputs": [
        {
          "output_type": "stream",
          "text": [
            "/usr/local/lib/python3.6/dist-packages/IPython/core/interactiveshell.py:2718: DtypeWarning: Columns (7) have mixed types.Specify dtype option on import or set low_memory=False.\n",
            "  interactivity=interactivity, compiler=compiler, result=result)\n"
          ],
          "name": "stderr"
        }
      ]
    },
    {
      "cell_type": "code",
      "metadata": {
        "colab": {
          "base_uri": "https://localhost:8080/"
        },
        "id": "prNkYNNf83fl",
        "outputId": "94a64040-c043-40a9-cc8b-e867fde5c6bf"
      },
      "source": [
        "df.columns"
      ],
      "execution_count": null,
      "outputs": [
        {
          "output_type": "execute_result",
          "data": {
            "text/plain": [
              "Index(['Store', 'DayOfWeek', 'Date', 'Sales', 'Customers', 'Open', 'Promo',\n",
              "       'StateHoliday', 'SchoolHoliday'],\n",
              "      dtype='object')"
            ]
          },
          "metadata": {
            "tags": []
          },
          "execution_count": 10
        }
      ]
    },
    {
      "cell_type": "code",
      "metadata": {
        "id": "t0zZyPLb8HA6"
      },
      "source": [
        "df = pd.merge(df, df_stores, on=\"Store\")"
      ],
      "execution_count": null,
      "outputs": []
    },
    {
      "cell_type": "code",
      "metadata": {
        "colab": {
          "base_uri": "https://localhost:8080/"
        },
        "id": "_NiXBenq802D",
        "outputId": "65dbd4e9-396b-4d27-a9e5-fa195e2b3ee3"
      },
      "source": [
        "df.columns"
      ],
      "execution_count": null,
      "outputs": [
        {
          "output_type": "execute_result",
          "data": {
            "text/plain": [
              "Index(['Store', 'DayOfWeek', 'Date', 'Sales', 'Customers', 'Open', 'Promo',\n",
              "       'StateHoliday', 'SchoolHoliday', 'StoreType', 'Assortment',\n",
              "       'CompetitionDistance', 'CompetitionOpenSinceMonth',\n",
              "       'CompetitionOpenSinceYear', 'Promo2', 'Promo2SinceWeek',\n",
              "       'Promo2SinceYear', 'PromoInterval'],\n",
              "      dtype='object')"
            ]
          },
          "metadata": {
            "tags": []
          },
          "execution_count": 5
        }
      ]
    },
    {
      "cell_type": "code",
      "metadata": {
        "colab": {
          "base_uri": "https://localhost:8080/",
          "height": 314
        },
        "id": "XY17cVTd8drY",
        "outputId": "ccbd107b-ac43-47f1-ec27-4985a15b262e"
      },
      "source": [
        "df.head()"
      ],
      "execution_count": null,
      "outputs": [
        {
          "output_type": "execute_result",
          "data": {
            "text/html": [
              "<div>\n",
              "<style scoped>\n",
              "    .dataframe tbody tr th:only-of-type {\n",
              "        vertical-align: middle;\n",
              "    }\n",
              "\n",
              "    .dataframe tbody tr th {\n",
              "        vertical-align: top;\n",
              "    }\n",
              "\n",
              "    .dataframe thead th {\n",
              "        text-align: right;\n",
              "    }\n",
              "</style>\n",
              "<table border=\"1\" class=\"dataframe\">\n",
              "  <thead>\n",
              "    <tr style=\"text-align: right;\">\n",
              "      <th></th>\n",
              "      <th>Store</th>\n",
              "      <th>DayOfWeek</th>\n",
              "      <th>Date</th>\n",
              "      <th>Sales</th>\n",
              "      <th>Customers</th>\n",
              "      <th>Open</th>\n",
              "      <th>Promo</th>\n",
              "      <th>StateHoliday</th>\n",
              "      <th>SchoolHoliday</th>\n",
              "      <th>StoreType</th>\n",
              "      <th>Assortment</th>\n",
              "      <th>CompetitionDistance</th>\n",
              "      <th>CompetitionOpenSinceMonth</th>\n",
              "      <th>CompetitionOpenSinceYear</th>\n",
              "      <th>Promo2</th>\n",
              "      <th>Promo2SinceWeek</th>\n",
              "      <th>Promo2SinceYear</th>\n",
              "      <th>PromoInterval</th>\n",
              "    </tr>\n",
              "  </thead>\n",
              "  <tbody>\n",
              "    <tr>\n",
              "      <th>0</th>\n",
              "      <td>1</td>\n",
              "      <td>5</td>\n",
              "      <td>2015-07-31</td>\n",
              "      <td>5263</td>\n",
              "      <td>555.0</td>\n",
              "      <td>1.0</td>\n",
              "      <td>1.0</td>\n",
              "      <td>0</td>\n",
              "      <td>1.0</td>\n",
              "      <td>c</td>\n",
              "      <td>a</td>\n",
              "      <td>1270.0</td>\n",
              "      <td>9.0</td>\n",
              "      <td>2008.0</td>\n",
              "      <td>0</td>\n",
              "      <td>NaN</td>\n",
              "      <td>NaN</td>\n",
              "      <td>NaN</td>\n",
              "    </tr>\n",
              "    <tr>\n",
              "      <th>1</th>\n",
              "      <td>1</td>\n",
              "      <td>4</td>\n",
              "      <td>2015-07-30</td>\n",
              "      <td>5020</td>\n",
              "      <td>546.0</td>\n",
              "      <td>1.0</td>\n",
              "      <td>1.0</td>\n",
              "      <td>0</td>\n",
              "      <td>1.0</td>\n",
              "      <td>c</td>\n",
              "      <td>a</td>\n",
              "      <td>1270.0</td>\n",
              "      <td>9.0</td>\n",
              "      <td>2008.0</td>\n",
              "      <td>0</td>\n",
              "      <td>NaN</td>\n",
              "      <td>NaN</td>\n",
              "      <td>NaN</td>\n",
              "    </tr>\n",
              "    <tr>\n",
              "      <th>2</th>\n",
              "      <td>1</td>\n",
              "      <td>3</td>\n",
              "      <td>2015-07-29</td>\n",
              "      <td>4782</td>\n",
              "      <td>523.0</td>\n",
              "      <td>1.0</td>\n",
              "      <td>1.0</td>\n",
              "      <td>0</td>\n",
              "      <td>1.0</td>\n",
              "      <td>c</td>\n",
              "      <td>a</td>\n",
              "      <td>1270.0</td>\n",
              "      <td>9.0</td>\n",
              "      <td>2008.0</td>\n",
              "      <td>0</td>\n",
              "      <td>NaN</td>\n",
              "      <td>NaN</td>\n",
              "      <td>NaN</td>\n",
              "    </tr>\n",
              "    <tr>\n",
              "      <th>3</th>\n",
              "      <td>1</td>\n",
              "      <td>2</td>\n",
              "      <td>2015-07-28</td>\n",
              "      <td>5011</td>\n",
              "      <td>560.0</td>\n",
              "      <td>1.0</td>\n",
              "      <td>1.0</td>\n",
              "      <td>0</td>\n",
              "      <td>1.0</td>\n",
              "      <td>c</td>\n",
              "      <td>a</td>\n",
              "      <td>1270.0</td>\n",
              "      <td>9.0</td>\n",
              "      <td>2008.0</td>\n",
              "      <td>0</td>\n",
              "      <td>NaN</td>\n",
              "      <td>NaN</td>\n",
              "      <td>NaN</td>\n",
              "    </tr>\n",
              "    <tr>\n",
              "      <th>4</th>\n",
              "      <td>1</td>\n",
              "      <td>1</td>\n",
              "      <td>2015-07-27</td>\n",
              "      <td>6102</td>\n",
              "      <td>612.0</td>\n",
              "      <td>1.0</td>\n",
              "      <td>1.0</td>\n",
              "      <td>0</td>\n",
              "      <td>1.0</td>\n",
              "      <td>c</td>\n",
              "      <td>a</td>\n",
              "      <td>1270.0</td>\n",
              "      <td>9.0</td>\n",
              "      <td>2008.0</td>\n",
              "      <td>0</td>\n",
              "      <td>NaN</td>\n",
              "      <td>NaN</td>\n",
              "      <td>NaN</td>\n",
              "    </tr>\n",
              "  </tbody>\n",
              "</table>\n",
              "</div>"
            ],
            "text/plain": [
              "   Store  DayOfWeek        Date  ...  Promo2SinceWeek  Promo2SinceYear  PromoInterval\n",
              "0      1          5  2015-07-31  ...              NaN              NaN            NaN\n",
              "1      1          4  2015-07-30  ...              NaN              NaN            NaN\n",
              "2      1          3  2015-07-29  ...              NaN              NaN            NaN\n",
              "3      1          2  2015-07-28  ...              NaN              NaN            NaN\n",
              "4      1          1  2015-07-27  ...              NaN              NaN            NaN\n",
              "\n",
              "[5 rows x 18 columns]"
            ]
          },
          "metadata": {
            "tags": []
          },
          "execution_count": 12
        }
      ]
    },
    {
      "cell_type": "code",
      "metadata": {
        "colab": {
          "base_uri": "https://localhost:8080/"
        },
        "id": "7AtxK9WE8hU1",
        "outputId": "36185c49-fc22-42ef-972b-9d1d4e13236f"
      },
      "source": [
        "df.shape"
      ],
      "execution_count": null,
      "outputs": [
        {
          "output_type": "execute_result",
          "data": {
            "text/plain": [
              "(55813, 18)"
            ]
          },
          "metadata": {
            "tags": []
          },
          "execution_count": 7
        }
      ]
    },
    {
      "cell_type": "code",
      "metadata": {
        "id": "9mv5MIiX8pPR"
      },
      "source": [
        "#######################################################\n",
        "# Extracting relevant time features\n",
        "#######################################################\n",
        "\n",
        "# day of the week is already processed\n",
        "df[\"Year\"] = pd.to_datetime(df.Date).dt.year\n",
        "df[\"Month\"] = pd.to_datetime(df.Date).dt.month"
      ],
      "execution_count": null,
      "outputs": []
    },
    {
      "cell_type": "code",
      "metadata": {
        "id": "r1Q9A0GcCZP1"
      },
      "source": [
        "#######################################################\n",
        "# Computing statistics on several time scales\n",
        "#######################################################"
      ],
      "execution_count": null,
      "outputs": []
    },
    {
      "cell_type": "code",
      "metadata": {
        "id": "GwdXHCwbCfih"
      },
      "source": [
        "# average sales per year per store\n"
      ],
      "execution_count": null,
      "outputs": []
    },
    {
      "cell_type": "code",
      "metadata": {
        "id": "nuiqN9LOCdlL"
      },
      "source": [
        "dico_years = {}\n",
        "for year in range(2013, 2016):\n",
        "    dico_years[year] = df[df.Year == year].groupby(\"Store\").Sales.mean().to_dict()\n"
      ],
      "execution_count": null,
      "outputs": []
    },
    {
      "cell_type": "code",
      "metadata": {
        "id": "0NbqSAk5CoMB"
      },
      "source": [
        "# average sales per month per store\n",
        "dico_months = {}\n",
        "for month in range(1, 13):\n",
        "   dico_months[month] = df[df.Month == month].groupby(\"Store\").Sales.mean().to_dict()"
      ],
      "execution_count": null,
      "outputs": []
    },
    {
      "cell_type": "code",
      "metadata": {
        "id": "WkeOm02NCXXC"
      },
      "source": [
        "# average sales per weekday per store \n",
        "dico_weekdays = {}\n",
        "for weekday in range(1, 7):\n",
        "    dico_weekdays[weekday] = df[df.DayOfWeek == weekday].groupby(\"Store\").Sales.mean().to_dict()\n",
        "        "
      ],
      "execution_count": null,
      "outputs": []
    },
    {
      "cell_type": "code",
      "metadata": {
        "id": "_Uyoh3I4EioF"
      },
      "source": [
        " # average sales per year per store   \n",
        "for year in dico_years:\n",
        "    df[\"Sales_in_Year_\"+str(year)] = df.Store.apply(lambda t: dico_years[year].get(t, 0)) "
      ],
      "execution_count": null,
      "outputs": []
    },
    {
      "cell_type": "code",
      "metadata": {
        "id": "26RpTlrAIZT-"
      },
      "source": [
        "# sales per store on the previous and next month"
      ],
      "execution_count": null,
      "outputs": []
    },
    {
      "cell_type": "code",
      "metadata": {
        "id": "PKHrZkfBIdte"
      },
      "source": [
        "last_month = (lambda x: (x - 2) % 12 + 1) # returns the previous month value\n",
        "next_month = (lambda x: x % 12 + 1) # returns the next month value"
      ],
      "execution_count": null,
      "outputs": []
    },
    {
      "cell_type": "code",
      "metadata": {
        "id": "OZEQGF8wJBDB"
      },
      "source": [
        "df[\"Store_Month\"] = df.Store.astype(str) + \"_\" + df.Month.astype(str)\n",
        "df[\"Mean_Sales_in_Last_Month\"] = df[\"Store_Month\"].apply(lambda t: dico_months[last_month(int(t.split(\"_\")[1]))].get(int(t.split(\"_\")[0]), 0.))\n",
        "df[\"Mean_Sales_in_Next_Month\"] = df[\"Store_Month\"].apply(lambda t: dico_months[next_month(int(t.split(\"_\")[1]))].get(int(t.split(\"_\")[0]), 0.)) \n",
        "df.drop(\"Store_Month\", axis=1, inplace=True)"
      ],
      "execution_count": null,
      "outputs": []
    },
    {
      "cell_type": "code",
      "metadata": {
        "id": "i84Fb3jZP0cj"
      },
      "source": [
        "yesterday = (lambda x: (x - 2) % 6 + 1) # returns the last day value\n",
        "tomorrow = (lambda x: x % 6 + 1) # returns the next day value\n",
        "df[\"Store_DayOfWeek\"] = df.Store.astype(str) + \"_\" + df.DayOfWeek.astype(str)\n",
        "df[\"Mean_Sales_in_Yesterday\"] = df[\"Store_DayOfWeek\"].apply(lambda t: dico_weekdays[yesterday(int(t.split(\"_\")[1]))].get(int(t.split(\"_\")[0]), 0.))\n",
        "df[\"Mean_Sales_in_Tomorrow\"] = df[\"Store_DayOfWeek\"].apply(lambda t: dico_weekdays[tomorrow(int(t.split(\"_\")[1]))].get(int(t.split(\"_\")[0]), 0.)) \n",
        "df.drop(\"Store_DayOfWeek\", axis=1, inplace=True)"
      ],
      "execution_count": null,
      "outputs": []
    },
    {
      "cell_type": "code",
      "metadata": {
        "id": "SF-ilQKjd-jp"
      },
      "source": [
        "under_yesterday = df[df['Sales'] < df['Mean_Sales_in_Yesterday']]\n",
        "bellow_yesterday = df[df['Sales'] > df['Mean_Sales_in_Yesterday']]"
      ],
      "execution_count": null,
      "outputs": []
    },
    {
      "cell_type": "code",
      "metadata": {
        "id": "TK0i63D6bAja"
      },
      "source": [
        "df['percentage_sales']= df['Sales']/df['Customers']"
      ],
      "execution_count": null,
      "outputs": []
    },
    {
      "cell_type": "code",
      "metadata": {
        "colab": {
          "base_uri": "https://localhost:8080/"
        },
        "id": "_TqBGQe5lVxx",
        "outputId": "2e019c45-d65a-4516-92e4-da8ac5263f47"
      },
      "source": [
        "df.columns"
      ],
      "execution_count": null,
      "outputs": [
        {
          "output_type": "execute_result",
          "data": {
            "text/plain": [
              "Index(['Store', 'DayOfWeek', 'Date', 'Sales', 'Customers', 'Open', 'Promo',\n",
              "       'StateHoliday', 'SchoolHoliday', 'StoreType', 'Assortment',\n",
              "       'CompetitionDistance', 'CompetitionOpenSinceMonth',\n",
              "       'CompetitionOpenSinceYear', 'Promo2', 'Promo2SinceWeek',\n",
              "       'Promo2SinceYear', 'PromoInterval', 'Year', 'Month',\n",
              "       'Sales_in_Year_2013', 'Sales_in_Year_2014', 'Sales_in_Year_2015',\n",
              "       'Mean_Sales_in_Last_Month', 'Mean_Sales_in_Next_Month',\n",
              "       'Mean_Sales_in_Yesterday', 'Mean_Sales_in_Tomorrow', 'percentage_sales',\n",
              "       'hol_effect', 'chrismas'],\n",
              "      dtype='object')"
            ]
          },
          "metadata": {
            "tags": []
          },
          "execution_count": 66
        }
      ]
    },
    {
      "cell_type": "code",
      "metadata": {
        "id": "3kJA6yF0hWFC"
      },
      "source": [
        "under_tomorrow = df[df['Sales'] < df['Mean_Sales_in_Tomorrow']]\n",
        "bellow_tomorrow = df[df['Sales'] > df['Mean_Sales_in_Tomorrow']]"
      ],
      "execution_count": null,
      "outputs": []
    },
    {
      "cell_type": "code",
      "metadata": {
        "id": "AG9om0HZhfeF"
      },
      "source": [
        "sns.distplot(under_tomorrow['Sales'], color = 'red')\n",
        "sns.distplot(bellow_tomorrow['Sales'],  color = 'green')"
      ],
      "execution_count": null,
      "outputs": []
    },
    {
      "cell_type": "code",
      "metadata": {
        "id": "7rCY_0A7gAQg"
      },
      "source": [
        "under_last_month = df[df['Sales'] < df['Mean_Sales_in_Last_Month']]\n",
        "bellow_last_month = df[df['Sales'] > df['Mean_Sales_in_Last_Month']]"
      ],
      "execution_count": null,
      "outputs": []
    },
    {
      "cell_type": "code",
      "metadata": {
        "id": "ehKDk-EjhFZA"
      },
      "source": [
        "sns.distplot(under_last_month['Sales'], color = 'red')\n",
        "sns.distplot(bellow_last_month['Sales'],  color = 'green')"
      ],
      "execution_count": null,
      "outputs": []
    },
    {
      "cell_type": "code",
      "metadata": {
        "id": "Yc-wz2xmh5m-"
      },
      "source": [
        "under_next_month = df[df['Sales'] < df['Mean_Sales_in_Next_Month']]\n",
        "bellow_next_month = df[df['Sales'] > df['Mean_Sales_in_Next_Month']]"
      ],
      "execution_count": null,
      "outputs": []
    },
    {
      "cell_type": "code",
      "metadata": {
        "id": "MBfN5ETUiM4A"
      },
      "source": [
        "sns.distplot(under_next_month['Sales'], color = 'red')\n",
        "sns.distplot(bellow_next_month['Sales'],  color = 'green')"
      ],
      "execution_count": null,
      "outputs": []
    },
    {
      "cell_type": "code",
      "metadata": {
        "id": "DCXqaPITiyQg"
      },
      "source": [
        "df.columns"
      ],
      "execution_count": null,
      "outputs": []
    },
    {
      "cell_type": "code",
      "metadata": {
        "id": "oQNGzxo4ib2C"
      },
      "source": [
        "sns.distplot(df['Sales_in_Year_2013'], color = 'red')\n",
        "sns.distplot(df['Sales_in_Year_2014'],  color = 'green')\n",
        "sns.distplot(df['Sales_in_Year_2015'],  color = 'blue')\n"
      ],
      "execution_count": null,
      "outputs": []
    },
    {
      "cell_type": "code",
      "metadata": {
        "id": "Hj4q70i1anhP"
      },
      "source": [
        "# holyday impact\n",
        "hol = df[df['SchoolHoliday']==1]\n",
        "nonHol = df[df['SchoolHoliday']==0]"
      ],
      "execution_count": null,
      "outputs": []
    },
    {
      "cell_type": "code",
      "metadata": {
        "id": "hWyY7P8TmacW"
      },
      "source": [
        ""
      ],
      "execution_count": null,
      "outputs": []
    },
    {
      "cell_type": "code",
      "metadata": {
        "colab": {
          "base_uri": "https://localhost:8080/",
          "height": 394
        },
        "id": "In3nXuH4Wqiu",
        "outputId": "e2cc698f-2d31-49b3-ed61-b8b61a1d930c"
      },
      "source": [
        "sns.distplot(hol['Sales'], label='hol', color = 'red')\n",
        "sns.distplot(nonHol['Sales'], label='nonhol')"
      ],
      "execution_count": null,
      "outputs": [
        {
          "output_type": "stream",
          "text": [
            "/usr/local/lib/python3.6/dist-packages/seaborn/distributions.py:2557: FutureWarning: `distplot` is a deprecated function and will be removed in a future version. Please adapt your code to use either `displot` (a figure-level function with similar flexibility) or `histplot` (an axes-level function for histograms).\n",
            "  warnings.warn(msg, FutureWarning)\n",
            "/usr/local/lib/python3.6/dist-packages/seaborn/distributions.py:2557: FutureWarning: `distplot` is a deprecated function and will be removed in a future version. Please adapt your code to use either `displot` (a figure-level function with similar flexibility) or `histplot` (an axes-level function for histograms).\n",
            "  warnings.warn(msg, FutureWarning)\n"
          ],
          "name": "stderr"
        },
        {
          "output_type": "execute_result",
          "data": {
            "text/plain": [
              "<matplotlib.axes._subplots.AxesSubplot at 0x7ffba2bf29b0>"
            ]
          },
          "metadata": {
            "tags": []
          },
          "execution_count": 51
        },
        {
          "output_type": "display_data",
          "data": {
            "image/png": "[encoded data removed]",
            "text/plain": [
              "<Figure size 432x288 with 1 Axes>"
            ]
          },
          "metadata": {
            "tags": [],
            "needs_background": "light"
          }
        }
      ]
    },
    {
      "cell_type": "code",
      "metadata": {
        "id": "9RSfh7OcsvtB"
      },
      "source": [
        "df['Date'] = pd.to_datetime(df['Date'])"
      ],
      "execution_count": null,
      "outputs": []
    },
    {
      "cell_type": "code",
      "metadata": {
        "colab": {
          "base_uri": "https://localhost:8080/",
          "height": 450
        },
        "id": "cOu_kaT-oMOk",
        "outputId": "1713a089-85bc-40c5-d6df-1a00742ba723"
      },
      "source": [
        "df_grouped = df.groupby(['Store', 'SchoolHoliday']).mean()\n",
        "df_grouped.head()\n",
        "df_grouped = df_grouped.unstack()\n",
        "df_grouped['Sales']"
      ],
      "execution_count": null,
      "outputs": [
        {
          "output_type": "execute_result",
          "data": {
            "text/html": [
              "<div>\n",
              "<style scoped>\n",
              "    .dataframe tbody tr th:only-of-type {\n",
              "        vertical-align: middle;\n",
              "    }\n",
              "\n",
              "    .dataframe tbody tr th {\n",
              "        vertical-align: top;\n",
              "    }\n",
              "\n",
              "    .dataframe thead th {\n",
              "        text-align: right;\n",
              "    }\n",
              "</style>\n",
              "<table border=\"1\" class=\"dataframe\">\n",
              "  <thead>\n",
              "    <tr style=\"text-align: right;\">\n",
              "      <th>SchoolHoliday</th>\n",
              "      <th>0.0</th>\n",
              "      <th>1.0</th>\n",
              "    </tr>\n",
              "    <tr>\n",
              "      <th>Store</th>\n",
              "      <th></th>\n",
              "      <th></th>\n",
              "    </tr>\n",
              "  </thead>\n",
              "  <tbody>\n",
              "    <tr>\n",
              "      <th>1</th>\n",
              "      <td>3824.799539</td>\n",
              "      <td>3997.353535</td>\n",
              "    </tr>\n",
              "    <tr>\n",
              "      <th>2</th>\n",
              "      <td>3971.192661</td>\n",
              "      <td>5021.082474</td>\n",
              "    </tr>\n",
              "    <tr>\n",
              "      <th>3</th>\n",
              "      <td>5405.766204</td>\n",
              "      <td>6881.920792</td>\n",
              "    </tr>\n",
              "    <tr>\n",
              "      <th>4</th>\n",
              "      <td>7874.651481</td>\n",
              "      <td>9616.872340</td>\n",
              "    </tr>\n",
              "    <tr>\n",
              "      <th>5</th>\n",
              "      <td>3734.621247</td>\n",
              "      <td>4401.380000</td>\n",
              "    </tr>\n",
              "    <tr>\n",
              "      <th>...</th>\n",
              "      <td>...</td>\n",
              "      <td>...</td>\n",
              "    </tr>\n",
              "    <tr>\n",
              "      <th>1111</th>\n",
              "      <td>4048.436195</td>\n",
              "      <td>4839.871287</td>\n",
              "    </tr>\n",
              "    <tr>\n",
              "      <th>1112</th>\n",
              "      <td>7600.647332</td>\n",
              "      <td>8740.207921</td>\n",
              "    </tr>\n",
              "    <tr>\n",
              "      <th>1113</th>\n",
              "      <td>5441.873303</td>\n",
              "      <td>6286.888889</td>\n",
              "    </tr>\n",
              "    <tr>\n",
              "      <th>1114</th>\n",
              "      <td>16995.311213</td>\n",
              "      <td>20194.631579</td>\n",
              "    </tr>\n",
              "    <tr>\n",
              "      <th>1115</th>\n",
              "      <td>5627.090069</td>\n",
              "      <td>5787.474747</td>\n",
              "    </tr>\n",
              "  </tbody>\n",
              "</table>\n",
              "<p>1115 rows × 2 columns</p>\n",
              "</div>"
            ],
            "text/plain": [
              "SchoolHoliday           0.0           1.0\n",
              "Store                                    \n",
              "1               3824.799539   3997.353535\n",
              "2               3971.192661   5021.082474\n",
              "3               5405.766204   6881.920792\n",
              "4               7874.651481   9616.872340\n",
              "5               3734.621247   4401.380000\n",
              "...                     ...           ...\n",
              "1111            4048.436195   4839.871287\n",
              "1112            7600.647332   8740.207921\n",
              "1113            5441.873303   6286.888889\n",
              "1114           16995.311213  20194.631579\n",
              "1115            5627.090069   5787.474747\n",
              "\n",
              "[1115 rows x 2 columns]"
            ]
          },
          "metadata": {
            "tags": []
          },
          "execution_count": 54
        }
      ]
    },
    {
      "cell_type": "code",
      "metadata": {
        "colab": {
          "base_uri": "https://localhost:8080/",
          "height": 357
        },
        "id": "W9ZycBP2tZ0U",
        "outputId": "431f07d1-7638-470e-92b7-c0793533ffc6"
      },
      "source": [
        "new_order = ['January', 'February', 'March', 'April', 'May', 'June', 'July', 'August', 'September', 'October', 'November', 'December']\n",
        "df_sales = df.groupby(df['Date'].dt.strftime('%B'))['Sales'].sum().reindex(new_order, axis=0)\n",
        "df_sales.plot.bar(title='Mean of the Sales through the year')\n",
        "plt.xlabel('Months')\n",
        "plt.ylabel('Mean of sales')"
      ],
      "execution_count": null,
      "outputs": [
        {
          "output_type": "execute_result",
          "data": {
            "text/plain": [
              "Text(0, 0.5, 'Mean of sales')"
            ]
          },
          "metadata": {
            "tags": []
          },
          "execution_count": 33
        },
        {
          "output_type": "display_data",
          "data": {
            "image/png": "[encoded data removed]",
            "text/plain": [
              "<Figure size 432x288 with 1 Axes>"
            ]
          },
          "metadata": {
            "tags": [],
            "needs_background": "light"
          }
        }
      ]
    },
    {
      "cell_type": "code",
      "metadata": {
        "id": "_JD55cEwP7PA"
      },
      "source": [
        ""
      ],
      "execution_count": null,
      "outputs": []
    },
    {
      "cell_type": "code",
      "metadata": {
        "colab": {
          "base_uri": "https://localhost:8080/",
          "height": 616
        },
        "id": "LfzfylOCsvD8",
        "outputId": "9ab48c7f-408c-4d79-d495-b3abf4330c0b"
      },
      "source": [
        "df_grouped_sum = df.groupby([df.Date.dt.to_period(\"M\"), 'SchoolHoliday']).sum()\n",
        "df_grouped_sum['Sales per Customer ratio'] = df_grouped_sum['Sales'] / df_grouped_sum['Customers']\n",
        "df_grouped_sum.loc['2014-07':'2015-07']['Sales per Customer ratio'].unstack().plot.bar(figsize=(9,9), title='Sales per customer ratio')\n",
        "plt.xlabel('Time range')\n",
        "plt.ylabel('Sales per Customer ratio')"
      ],
      "execution_count": null,
      "outputs": [
        {
          "output_type": "execute_result",
          "data": {
            "text/plain": [
              "Text(0, 0.5, 'Sales per Customer ratio')"
            ]
          },
          "metadata": {
            "tags": []
          },
          "execution_count": 32
        },
        {
          "output_type": "display_data",
          "data": {
            "image/png": "[encoded data removed]",
            "text/plain": [
              "<Figure size 648x648 with 1 Axes>"
            ]
          },
          "metadata": {
            "tags": [],
            "needs_background": "light"
          }
        }
      ]
    },
    {
      "cell_type": "code",
      "metadata": {
        "id": "HryHcIHKoip0"
      },
      "source": [
        "df['hol_effect'] = 100*(df_grouped['Sales'][1]-df_grouped['Sales'][0])/df_grouped['Sales'][0]"
      ],
      "execution_count": null,
      "outputs": []
    },
    {
      "cell_type": "code",
      "metadata": {
        "colab": {
          "base_uri": "https://localhost:8080/",
          "height": 312
        },
        "id": "W-wMkAr6qLqf",
        "outputId": "50739aba-15db-4d81-c5e2-efae905caa90"
      },
      "source": [
        "df['hol_effect'].plot.hist(bins=50, title='Effect of school holidays over the sales')\n",
        "plt.xlabel('% school holidays effect')"
      ],
      "execution_count": null,
      "outputs": [
        {
          "output_type": "execute_result",
          "data": {
            "text/plain": [
              "Text(0.5, 0, '% school holidays effect')"
            ]
          },
          "metadata": {
            "tags": []
          },
          "execution_count": 58
        },
        {
          "output_type": "display_data",
          "data": {
            "image/png": "[encoded data removed]",
            "text/plain": [
              "<Figure size 432x288 with 1 Axes>"
            ]
          },
          "metadata": {
            "tags": [],
            "needs_background": "light"
          }
        }
      ]
    },
    {
      "cell_type": "code",
      "metadata": {
        "id": "m9Gv6Pzu7nXg"
      },
      "source": [
        "comp.groupby(['StoreType', 'before']).mean()['Sales'].unstack().plot.bar()"
      ],
      "execution_count": null,
      "outputs": []
    },
    {
      "cell_type": "code",
      "metadata": {
        "id": "TGp-sQKEXmnW"
      },
      "source": [
        "df['Da'] = df['Date'].dt.strftime('%B')"
      ],
      "execution_count": null,
      "outputs": []
    },
    {
      "cell_type": "code",
      "metadata": {
        "id": "2nVVit8PjV3g"
      },
      "source": [
        "# chrismas impact\n",
        "chrismas = df[df['Date'].dt.strftime('%B')=='December']\n",
        "nonchrismas = df[df['Date'].dt.strftime('%B')!=12]\n",
        "ch = []\n",
        "for i in range (len(df['Da'])):\n",
        "  if df['Da'][i]=='December':\n",
        "    ch.append(1)\n",
        "  else: \n",
        "    ch.append(0)"
      ],
      "execution_count": null,
      "outputs": []
    },
    {
      "cell_type": "code",
      "metadata": {
        "id": "dls8EY0YkcUa"
      },
      "source": [
        "df['chritsmas'] = ch"
      ],
      "execution_count": null,
      "outputs": []
    },
    {
      "cell_type": "code",
      "metadata": {
        "colab": {
          "base_uri": "https://localhost:8080/",
          "height": 450
        },
        "id": "I0LXJVWTkIDw",
        "outputId": "6be818bc-b9ab-482a-da5b-566a1a6f1045"
      },
      "source": [
        "df_grouped = df.groupby(['Store', 'chrismas']).mean()\n",
        "df_grouped.head()\n",
        "df_grouped = df_grouped.unstack()\n",
        "df_grouped['Sales']"
      ],
      "execution_count": null,
      "outputs": [
        {
          "output_type": "execute_result",
          "data": {
            "text/html": [
              "<div>\n",
              "<style scoped>\n",
              "    .dataframe tbody tr th:only-of-type {\n",
              "        vertical-align: middle;\n",
              "    }\n",
              "\n",
              "    .dataframe tbody tr th {\n",
              "        vertical-align: top;\n",
              "    }\n",
              "\n",
              "    .dataframe thead th {\n",
              "        text-align: right;\n",
              "    }\n",
              "</style>\n",
              "<table border=\"1\" class=\"dataframe\">\n",
              "  <thead>\n",
              "    <tr style=\"text-align: right;\">\n",
              "      <th>chrismas</th>\n",
              "      <th>0</th>\n",
              "      <th>1</th>\n",
              "    </tr>\n",
              "    <tr>\n",
              "      <th>Store</th>\n",
              "      <th></th>\n",
              "      <th></th>\n",
              "    </tr>\n",
              "  </thead>\n",
              "  <tbody>\n",
              "    <tr>\n",
              "      <th>1</th>\n",
              "      <td>3774.252988</td>\n",
              "      <td>5194.387097</td>\n",
              "    </tr>\n",
              "    <tr>\n",
              "      <th>2</th>\n",
              "      <td>4111.683267</td>\n",
              "      <td>4981.290323</td>\n",
              "    </tr>\n",
              "    <tr>\n",
              "      <th>3</th>\n",
              "      <td>5615.149402</td>\n",
              "      <td>6824.516129</td>\n",
              "    </tr>\n",
              "    <tr>\n",
              "      <th>4</th>\n",
              "      <td>8097.376494</td>\n",
              "      <td>9550.806452</td>\n",
              "    </tr>\n",
              "    <tr>\n",
              "      <th>5</th>\n",
              "      <td>3801.541833</td>\n",
              "      <td>4801.774194</td>\n",
              "    </tr>\n",
              "    <tr>\n",
              "      <th>...</th>\n",
              "      <td>...</td>\n",
              "      <td>...</td>\n",
              "    </tr>\n",
              "    <tr>\n",
              "      <th>1111</th>\n",
              "      <td>4172.259481</td>\n",
              "      <td>4625.838710</td>\n",
              "    </tr>\n",
              "    <tr>\n",
              "      <th>1112</th>\n",
              "      <td>7782.263473</td>\n",
              "      <td>8378.258065</td>\n",
              "    </tr>\n",
              "    <tr>\n",
              "      <th>1113</th>\n",
              "      <td>5479.538922</td>\n",
              "      <td>7286.419355</td>\n",
              "    </tr>\n",
              "    <tr>\n",
              "      <th>1114</th>\n",
              "      <td>17438.946108</td>\n",
              "      <td>19629.967742</td>\n",
              "    </tr>\n",
              "    <tr>\n",
              "      <th>1115</th>\n",
              "      <td>5584.381238</td>\n",
              "      <td>6829.516129</td>\n",
              "    </tr>\n",
              "  </tbody>\n",
              "</table>\n",
              "<p>1115 rows × 2 columns</p>\n",
              "</div>"
            ],
            "text/plain": [
              "chrismas             0             1\n",
              "Store                               \n",
              "1          3774.252988   5194.387097\n",
              "2          4111.683267   4981.290323\n",
              "3          5615.149402   6824.516129\n",
              "4          8097.376494   9550.806452\n",
              "5          3801.541833   4801.774194\n",
              "...                ...           ...\n",
              "1111       4172.259481   4625.838710\n",
              "1112       7782.263473   8378.258065\n",
              "1113       5479.538922   7286.419355\n",
              "1114      17438.946108  19629.967742\n",
              "1115       5584.381238   6829.516129\n",
              "\n",
              "[1115 rows x 2 columns]"
            ]
          },
          "metadata": {
            "tags": []
          },
          "execution_count": 48
        }
      ]
    },
    {
      "cell_type": "code",
      "metadata": {
        "id": "6-IdIVDLknIY"
      },
      "source": [
        "df['chrismas'] = 100*(df_grouped['Sales'][1]-df_grouped['Sales'][0])/df_grouped['Sales'][0]"
      ],
      "execution_count": null,
      "outputs": []
    },
    {
      "cell_type": "code",
      "metadata": {
        "colab": {
          "base_uri": "https://localhost:8080/",
          "height": 312
        },
        "id": "zZLjWGtfkryF",
        "outputId": "062bb4c7-f29d-4733-dd49-5d6784bb265a"
      },
      "source": [
        "df['chrismas'].plot.hist(bins=50, title='Effect of christmas season over the sales')\n",
        "plt.xlabel('% chritsmas season effect')"
      ],
      "execution_count": null,
      "outputs": [
        {
          "output_type": "execute_result",
          "data": {
            "text/plain": [
              "Text(0.5, 0, '% chritsmas season effect')"
            ]
          },
          "metadata": {
            "tags": []
          },
          "execution_count": 53
        },
        {
          "output_type": "display_data",
          "data": {
            "image/png": "[encoded data removed]",
            "text/plain": [
              "<Figure size 432x288 with 1 Axes>"
            ]
          },
          "metadata": {
            "tags": [],
            "needs_background": "light"
          }
        }
      ]
    }
  ]
}